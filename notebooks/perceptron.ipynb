{
 "cells": [
  {
   "attachments": {},
   "cell_type": "markdown",
   "metadata": {},
   "source": [
    "# Basic Perceptron Model\n",
    "\n",
    "A single layer neural network, able to represent linear models.\n",
    "Binary classification!\n",
    "\n",
    "$D$ - array of input $x$ (array) and result $y$ (float) pairs\n",
    "\n",
    "Note: use -1 instead of 0 for this model when checking if binary operations work properly like AND, OR, etc."
   ]
  },
  {
   "cell_type": "code",
   "execution_count": 40,
   "metadata": {},
   "outputs": [],
   "source": [
    "import numpy as np\n",
    "import matplotlib.pyplot as plt"
   ]
  },
  {
   "cell_type": "code",
   "execution_count": 102,
   "metadata": {},
   "outputs": [],
   "source": [
    "def perceptron_train(data: np.array, labels: np.array, max_iter: int, l_rate: float = 1, b: float = 1):\n",
    "    weights: np.array = np.zeros(data.shape[1])\n",
    "    b_w: int = 0\n",
    "\n",
    "    for i in range(max_iter):\n",
    "        for j in range(data.shape[0]):\n",
    "            x = data[j]\n",
    "            # print(x)\n",
    "            y = labels[j]\n",
    "            a = np.dot(weights, x) + b_w * b # accesses column 0 (x) of D and dots with \n",
    "\n",
    "            if y * a <= 0:\n",
    "                weights += l_rate * y * x\n",
    "                b_w += l_rate * y\n",
    "    \n",
    "    return weights, b_w\n",
    "\n",
    "def perceptron_test(x: np.array, weights: np.array, b: int):\n",
    "    a: float = np.dot(weights, x) + b\n",
    "    return a "
   ]
  },
  {
   "attachments": {},
   "cell_type": "markdown",
   "metadata": {},
   "source": [
    "## Testing the perceptron"
   ]
  },
  {
   "cell_type": "code",
   "execution_count": 122,
   "metadata": {},
   "outputs": [
    {
     "data": {
      "text/plain": [
       "<matplotlib.collections.PathCollection at 0x7fd1e6cf5720>"
      ]
     },
     "execution_count": 122,
     "metadata": {},
     "output_type": "execute_result"
    },
    {
     "data": {
      "image/png": "[encoded data removed]",
      "text/plain": [
       "<Figure size 640x480 with 1 Axes>"
      ]
     },
     "metadata": {},
     "output_type": "display_data"
    }
   ],
   "source": [
    "# First, we need to construct some sample data\n",
    "\n",
    "training_data = np.array([[10, 0], [8, 1], [0, 7], [4, 0], [0, 5], [4,2.5], [2,2], [6,6], [6.2, 4]])\n",
    "training_labels = np.array([[1, 1, 1, -1, -1, -1, -1, 1, 1]])\n",
    "\n",
    "plt.scatter(training_data[:,0], training_data[:,1], c=training_labels, cmap=\"bwr_r\")"
   ]
  },
  {
   "cell_type": "code",
   "execution_count": 143,
   "metadata": {},
   "outputs": [
    {
     "name": "stdout",
     "output_type": "stream",
     "text": [
      "[2.1 2. ]\n",
      "[-13.5]\n"
     ]
    }
   ],
   "source": [
    "b = 1\n",
    "weights, b_w = perceptron_train(training_data, np.transpose(training_labels), 30, 0.5, b)\n",
    "\n",
    "print(weights)\n",
    "print(b_w)"
   ]
  },
  {
   "cell_type": "code",
   "execution_count": 147,
   "metadata": {},
   "outputs": [
    {
     "data": {
      "text/plain": [
       "array([7.5])"
      ]
     },
     "execution_count": 147,
     "metadata": {},
     "output_type": "execute_result"
    }
   ],
   "source": [
    "# Sign of output represents the classification\n",
    "perceptron_test([10, 0], weights, b_w * b)"
   ]
  },
  {
   "cell_type": "code",
   "execution_count": null,
   "metadata": {},
   "outputs": [],
   "source": []
  }
 ],
 "metadata": {
  "kernelspec": {
   "display_name": "ml",
   "language": "python",
   "name": "python3"
  },
  "language_info": {
   "codemirror_mode": {
    "name": "ipython",
    "version": 3
   },
   "file_extension": ".py",
   "mimetype": "text/x-python",
   "name": "python",
   "nbconvert_exporter": "python",
   "pygments_lexer": "ipython3",
   "version": "3.10.9"
  },
  "orig_nbformat": 4,
  "vscode": {
   "interpreter": {
    "hash": "aea0c1ae859db660c4472f26b822ab52424e4e0a760d1a01ac6d4939761b0319"
   }
  }
 },
 "nbformat": 4,
 "nbformat_minor": 2
}
