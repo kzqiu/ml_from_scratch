{
 "cells": [
  {
   "attachments": {},
   "cell_type": "markdown",
   "metadata": {},
   "source": [
    "# Basic Perceptron Model\n",
    "\n",
    "A single layer neural network, able to represent linear models\n",
    "\n",
    "$D$ - array of input $x$ (array) and result $y$ (float) pairs\n",
    "\n",
    "Note: use -1 instead of 0 for this model when checking if binary operations work properly like AND, OR, etc."
   ]
  },
  {
   "cell_type": "code",
   "execution_count": 1,
   "metadata": {},
   "outputs": [],
   "source": [
    "import numpy as np"
   ]
  },
  {
   "cell_type": "code",
   "execution_count": 2,
   "metadata": {},
   "outputs": [],
   "source": [
    "def perceptron_train(D: np.array, max_iter: int):\n",
    "    weights: np.array = np.zeros(D.shape[0])\n",
    "    b: float = 0.0\n",
    "\n",
    "    for i in range(max_iter):\n",
    "        for x, y in D:\n",
    "            a: float = np.dot(weights, x) + b # accesses column 0 (x) of D and dots with \n",
    "\n",
    "            if y * a <= 0:\n",
    "                weights += y * x\n",
    "                b += y\n",
    "    \n",
    "    return weights\n",
    "\n",
    "def perceptron_test(weights: np.array, b: int, x: np.array):\n",
    "    a: float = np.dot(weights, x)\n",
    "    return a "
   ]
  },
  {
   "attachments": {},
   "cell_type": "markdown",
   "metadata": {},
   "source": [
    "## Testing the perceptron"
   ]
  },
  {
   "cell_type": "code",
   "execution_count": null,
   "metadata": {},
   "outputs": [],
   "source": [
    "# First, we need to construct some sample data\n",
    "\n"
   ]
  }
 ],
 "metadata": {
  "kernelspec": {
   "display_name": "ml",
   "language": "python",
   "name": "python3"
  },
  "language_info": {
   "codemirror_mode": {
    "name": "ipython",
    "version": 3
   },
   "file_extension": ".py",
   "mimetype": "text/x-python",
   "name": "python",
   "nbconvert_exporter": "python",
   "pygments_lexer": "ipython3",
   "version": "3.10.9"
  },
  "orig_nbformat": 4,
  "vscode": {
   "interpreter": {
    "hash": "aea0c1ae859db660c4472f26b822ab52424e4e0a760d1a01ac6d4939761b0319"
   }
  }
 },
 "nbformat": 4,
 "nbformat_minor": 2
}
