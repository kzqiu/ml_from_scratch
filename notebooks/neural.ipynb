{
 "cells": [
  {
   "cell_type": "code",
   "execution_count": 2,
   "metadata": {},
   "outputs": [],
   "source": [
    "import numpy as np"
   ]
  },
  {
   "cell_type": "code",
   "execution_count": 2,
   "metadata": {},
   "outputs": [],
   "source": [
    "# note that learning rate is denoted by a rho η in the CIML textbook\n",
    "def bilayer_perceptron_train(x: np.array, y: np.array, learning_rate: float, hidden_units: int, max_iter: int):\n",
    "    W = np.random.rand((hidden_units, x.shape[1])) # TODO: NEED TO NORMALIZE (* 0.1 - 0.05)\n",
    "    v = np.random.rand(hidden_units) # TODO: NEED TO NORMALIZE\n",
    "\n",
    "    for i in range(max_iter):\n",
    "        G = np.zeros_like(W)\n",
    "        g = np.zeros_like(v)\n",
    "\n",
    "        for j in range(x.shape[0]):\n",
    "            h = np.zeros(hidden_units) # computing activations for hidden units \n",
    "            a = np.zeros(hidden_units)\n",
    "\n",
    "            for k in range(hidden_units):\n",
    "                a[k] = np.dot(x[j], W[k])\n",
    "                h[k] = np.tanh(a[k])\n",
    "            \n",
    "            out = np.dot(v, h)\n",
    "            e = y[j] - out\n",
    "\n",
    "            # backpropagating across all weights!\n",
    "            g -= e * h\n",
    "            \n",
    "            for k in range(hidden_units):\n",
    "                G[k] -= e * np.dot(np.ones_like(a) - np.square(np.tanh(a)), x[j])\n",
    "\n",
    "        W -= learning_rate * G\n",
    "        w -= learning_rate * g\n",
    "    \n",
    "    return W, v\n",
    "\n",
    "def bilayer_preceptron_test():\n",
    "    return"
   ]
  },
  {
   "cell_type": "code",
   "execution_count": 4,
   "metadata": {},
   "outputs": [
    {
     "data": {
      "text/plain": [
       "array([[0., 0., 0., 0.],\n",
       "       [0., 0., 0., 0.],\n",
       "       [0., 0., 0., 0.]])"
      ]
     },
     "execution_count": 4,
     "metadata": {},
     "output_type": "execute_result"
    }
   ],
   "source": [
    "np.zeros((3,4))"
   ]
  },
  {
   "cell_type": "code",
   "execution_count": null,
   "metadata": {},
   "outputs": [],
   "source": []
  }
 ],
 "metadata": {
  "kernelspec": {
   "display_name": "ml",
   "language": "python",
   "name": "python3"
  },
  "language_info": {
   "codemirror_mode": {
    "name": "ipython",
    "version": 3
   },
   "file_extension": ".py",
   "mimetype": "text/x-python",
   "name": "python",
   "nbconvert_exporter": "python",
   "pygments_lexer": "ipython3",
   "version": "3.10.9"
  },
  "orig_nbformat": 4,
  "vscode": {
   "interpreter": {
    "hash": "aea0c1ae859db660c4472f26b822ab52424e4e0a760d1a01ac6d4939761b0319"
   }
  }
 },
 "nbformat": 4,
 "nbformat_minor": 2
}
