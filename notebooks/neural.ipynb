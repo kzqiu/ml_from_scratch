{
 "cells": [
  {
   "cell_type": "code",
   "execution_count": 2,
   "metadata": {},
   "outputs": [],
   "source": [
    "import numpy as np"
   ]
  },
  {
   "cell_type": "code",
   "execution_count": 2,
   "metadata": {},
   "outputs": [],
   "source": [
    "# note that learning rate is denoted by a rho η in the CIML textbook\n",
    "def bilayer_perceptron_train(x: np.array, y: np.array, learning_rate: float, hidden_units: int, max_iter: int):\n",
    "    # Normalized small random weights between -0.05 and 0.05\n",
    "    W = (np.random.rand((hidden_units, x.shape[1])) - 0.5) * 0.1\n",
    "    v = (np.random.rand(hidden_units) - 0.5) * 0.1\n",
    "\n",
    "    for i in range(max_iter):\n",
    "        G = np.zeros_like(W)\n",
    "        g = np.zeros_like(v)\n",
    "\n",
    "        for j in range(x.shape[0]):\n",
    "            h = np.zeros(hidden_units) \n",
    "            a = np.zeros(hidden_units)\n",
    "\n",
    "            for k in range(hidden_units):\n",
    "                a[k] = np.dot(x[j] / np.linalg.norm(x[j]), W[k])\n",
    "                h[k] = np.tanh(a[k]) # computing activations for hidden units \n",
    "            \n",
    "            out = np.dot(v, h)\n",
    "            e = y[j] - out\n",
    "\n",
    "            # backpropagating across all weights!\n",
    "            g -= e * h\n",
    "            \n",
    "            for k in range(hidden_units):\n",
    "                G[k] -= e * np.dot(a[k] - np.tanh(a[k]), x[j])\n",
    "\n",
    "        W -= learning_rate * G\n",
    "        w -= learning_rate * g\n",
    "    \n",
    "    return W, v\n",
    "\n",
    "def bilayer_preceptron_test():\n",
    "    return"
   ]
  },
  {
   "cell_type": "code",
   "execution_count": null,
   "metadata": {},
   "outputs": [],
   "source": []
  },
  {
   "cell_type": "code",
   "execution_count": null,
   "metadata": {},
   "outputs": [],
   "source": [
    "hidden_weights, output_weights = bilayer_perceptron_train()"
   ]
  }
 ],
 "metadata": {
  "kernelspec": {
   "display_name": "ml",
   "language": "python",
   "name": "python3"
  },
  "language_info": {
   "codemirror_mode": {
    "name": "ipython",
    "version": 3
   },
   "file_extension": ".py",
   "mimetype": "text/x-python",
   "name": "python",
   "nbconvert_exporter": "python",
   "pygments_lexer": "ipython3",
   "version": "3.10.9"
  },
  "orig_nbformat": 4,
  "vscode": {
   "interpreter": {
    "hash": "aea0c1ae859db660c4472f26b822ab52424e4e0a760d1a01ac6d4939761b0319"
   }
  }
 },
 "nbformat": 4,
 "nbformat_minor": 2
}
